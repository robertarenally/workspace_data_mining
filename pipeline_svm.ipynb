{
 "cells": [
  {
   "cell_type": "code",
   "execution_count": null,
   "metadata": {},
   "outputs": [],
   "source": [
    "import re\n",
    "import nltk\n",
    "from sklearn.feature_extraction.text import CountVectorizer\n",
    "from sklearn.feature_extraction.text import TfidfTransformer \n",
    "from sklearn.metrics import classification_report, confusion_matrix, accuracy_score\n",
    "from sklearn.model_selection import train_test_split  \n",
    "from sklearn.datasets import load_files \n",
    "from sklearn.svm import SVC, NuSVC, LinearSVC"
   ]
  },
  {
   "cell_type": "code",
   "execution_count": 2,
   "metadata": {},
   "outputs": [],
   "source": [
    "data = load_files(r\"C:\\Users\\Rober\\workspace_MT\\datasets\\SyskillWebert-Parsed\", encoding=\"ISO-8859-1\")\n",
    "x, y = data.data, data.target  "
   ]
  },
  {
   "cell_type": "code",
   "execution_count": 3,
   "metadata": {},
   "outputs": [],
   "source": [
    "#Text Processing\n",
    "documents = []\n",
    "stemmer = nltk.stem.WordNetLemmatizer()\n",
    "\n",
    "for sen in range(0, len(x)):  \n",
    "    # Remove all the special characters\n",
    "    document = re.sub(r'\\W', ' ', str(x[sen]))\n",
    "\n",
    "    # remove all single characters\n",
    "    document = re.sub(r'\\s+[a-zA-Z]\\s+', ' ', document)\n",
    "\n",
    "    # Remove single characters from the start\n",
    "    document = re.sub(r'\\^[a-zA-Z]\\s+', ' ', document) \n",
    "\n",
    "    # Substituting multiple spaces with single space\n",
    "    document = re.sub(r'\\s+', ' ', document, flags=re.I)\n",
    "\n",
    "    # Converting to Lowercase\n",
    "    document = document.lower()\n",
    "\n",
    "    # Lemmatization\n",
    "    document = document.split()\n",
    "\n",
    "    document = [stemmer.lemmatize(word) for word in document]\n",
    "    document = ' '.join(document)\n",
    "\n",
    "    documents.append(document)"
   ]
  },
  {
   "cell_type": "code",
   "execution_count": 4,
   "metadata": {},
   "outputs": [],
   "source": [
    "vectorizer = CountVectorizer(max_df=0.90, min_df=0.05, stop_words=nltk.corpus.stopwords.words('english'))   \n",
    "X = vectorizer.fit_transform(documents).toarray()\n",
    "tfidfconverter = TfidfTransformer()  \n",
    "X = tfidfconverter.fit_transform(X).toarray()  "
   ]
  },
  {
   "cell_type": "code",
   "execution_count": 5,
   "metadata": {},
   "outputs": [],
   "source": [
    "#this script divides data into 20% test set and 80% training set.\n",
    "X_train, X_test, y_train, y_test = train_test_split(X, y, test_size=0.2, random_state=0)  "
   ]
  },
  {
   "cell_type": "code",
   "execution_count": 8,
   "metadata": {},
   "outputs": [
    {
     "data": {
      "text/plain": [
       "SVC(C=1.0, cache_size=200, class_weight=None, coef0=0.0,\n",
       "  decision_function_shape='ovr', degree=3, gamma='auto', kernel='rbf',\n",
       "  max_iter=-1, probability=False, random_state=None, shrinking=True,\n",
       "  tol=0.001, verbose=False)"
      ]
     },
     "execution_count": 8,
     "metadata": {},
     "output_type": "execute_result"
    }
   ],
   "source": [
    "#Training Text Classification Model and Predicting Sentiment\n",
    "#degree =  grau da função 'poly'\n",
    "#gama = Coeficiente para as funções ‘rbf’, ‘poly’ and ‘sigmoid’.do núcleo.\n",
    "#quanto maior o parametro C, mais tolerante a erros\n",
    "modelo = SVC(C=1.0, gamma='auto', degree=3, kernel='rbf') \n",
    "modelo.fit(X_train, y_train) "
   ]
  },
  {
   "cell_type": "code",
   "execution_count": 9,
   "metadata": {},
   "outputs": [
    {
     "name": "stdout",
     "output_type": "stream",
     "text": [
      "[[ 0 11  0  0]\n",
      " [ 0 20  0  0]\n",
      " [ 0 20  0  0]\n",
      " [ 0 16  0  0]]\n",
      "              precision    recall  f1-score   support\n",
      "\n",
      "       Bands       0.00      0.00      0.00        11\n",
      "  BioMedical       0.30      1.00      0.46        20\n",
      "       Goats       0.00      0.00      0.00        20\n",
      "       Sheep       0.00      0.00      0.00        16\n",
      "\n",
      "   micro avg       0.30      0.30      0.30        67\n",
      "   macro avg       0.07      0.25      0.11        67\n",
      "weighted avg       0.09      0.30      0.14        67\n",
      "\n",
      "0.29850746268656714\n"
     ]
    },
    {
     "name": "stderr",
     "output_type": "stream",
     "text": [
      "C:\\ProgramData\\Anaconda3\\lib\\site-packages\\sklearn\\metrics\\classification.py:1143: UndefinedMetricWarning: Precision and F-score are ill-defined and being set to 0.0 in labels with no predicted samples.\n",
      "  'precision', 'predicted', average, warn_for)\n"
     ]
    }
   ],
   "source": [
    "y_pred = modelo.predict(X_test) \n",
    "\n",
    "target_names = data.target_names\n",
    "\n",
    "print(confusion_matrix(y_test,y_pred))  \n",
    "print(classification_report(y_test,y_pred,target_names=target_names))  \n",
    "print(accuracy_score(y_test, y_pred))  "
   ]
  },
  {
   "cell_type": "code",
   "execution_count": 10,
   "metadata": {},
   "outputs": [
    {
     "data": {
      "text/plain": [
       "LinearSVC(C=1.0, class_weight=None, dual=True, fit_intercept=True,\n",
       "     intercept_scaling=1, loss='squared_hinge', max_iter=1000,\n",
       "     multi_class='ovr', penalty='l2', random_state=0, tol=1e-05, verbose=0)"
      ]
     },
     "execution_count": 10,
     "metadata": {},
     "output_type": "execute_result"
    }
   ],
   "source": [
    "modelo2 = LinearSVC(random_state=0, tol=1e-5)\n",
    "modelo2.fit(X_train, y_train) "
   ]
  },
  {
   "cell_type": "code",
   "execution_count": 11,
   "metadata": {},
   "outputs": [
    {
     "name": "stdout",
     "output_type": "stream",
     "text": [
      "[[ 0 11  0  0]\n",
      " [ 0 20  0  0]\n",
      " [ 0 20  0  0]\n",
      " [ 0 16  0  0]]\n",
      "              precision    recall  f1-score   support\n",
      "\n",
      "       Bands       0.00      0.00      0.00        11\n",
      "  BioMedical       0.30      1.00      0.46        20\n",
      "       Goats       0.00      0.00      0.00        20\n",
      "       Sheep       0.00      0.00      0.00        16\n",
      "\n",
      "   micro avg       0.30      0.30      0.30        67\n",
      "   macro avg       0.07      0.25      0.11        67\n",
      "weighted avg       0.09      0.30      0.14        67\n",
      "\n",
      "0.29850746268656714\n"
     ]
    },
    {
     "name": "stderr",
     "output_type": "stream",
     "text": [
      "C:\\ProgramData\\Anaconda3\\lib\\site-packages\\sklearn\\metrics\\classification.py:1143: UndefinedMetricWarning: Precision and F-score are ill-defined and being set to 0.0 in labels with no predicted samples.\n",
      "  'precision', 'predicted', average, warn_for)\n"
     ]
    }
   ],
   "source": [
    "y_pred = modelo.predict(X_test) \n",
    "\n",
    "target_names = data.target_names\n",
    "\n",
    "print(confusion_matrix(y_test,y_pred))  \n",
    "print(classification_report(y_test,y_pred,target_names=target_names))  \n",
    "print(accuracy_score(y_test, y_pred))  "
   ]
  },
  {
   "cell_type": "code",
   "execution_count": null,
   "metadata": {},
   "outputs": [],
   "source": []
  }
 ],
 "metadata": {
  "kernelspec": {
   "display_name": "Python 3",
   "language": "python",
   "name": "python3"
  },
  "language_info": {
   "codemirror_mode": {
    "name": "ipython",
    "version": 3
   },
   "file_extension": ".py",
   "mimetype": "text/x-python",
   "name": "python",
   "nbconvert_exporter": "python",
   "pygments_lexer": "ipython3",
   "version": "3.7.1"
  }
 },
 "nbformat": 4,
 "nbformat_minor": 2
}
