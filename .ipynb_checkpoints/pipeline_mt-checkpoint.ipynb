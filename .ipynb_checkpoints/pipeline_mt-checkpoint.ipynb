{
 "cells": [
  {
   "cell_type": "code",
   "execution_count": null,
   "metadata": {},
   "outputs": [],
   "source": [
    "#Analise de Sentimento de revisão de filmes"
   ]
  },
  {
   "cell_type": "code",
   "execution_count": 1,
   "metadata": {},
   "outputs": [],
   "source": [
    "#Sentiment Analysis with Scikit-Learn\n",
    "#1 - Importing Libraries\n",
    "#2 - Importing The dataset\n",
    "#3 - Text Preprocessing\n",
    "#4 - Converting Text to Numbers\n",
    "#5 - Training and Test Sets\n",
    "#6 - Training Text Classification Model and Predicting Sentiment\n",
    "#7 - Evaluating The Model\n",
    "#8 - Saving and Loading the Model"
   ]
  },
  {
   "cell_type": "code",
   "execution_count": 2,
   "metadata": {},
   "outputs": [],
   "source": [
    "#1 - Importing Libraries\n",
    "import numpy as np  \n",
    "import re  \n",
    "import nltk  \n",
    "from sklearn.datasets import load_files \n",
    "import pickle  \n",
    "from nltk.corpus import stopwords\n",
    "from nltk.stem import WordNetLemmatizer"
   ]
  },
  {
   "cell_type": "code",
   "execution_count": 3,
   "metadata": {},
   "outputs": [],
   "source": [
    "#2 - Importing the dataset\n",
    "#The load_files function automatically divides the dataset into data and target sets. \n",
    "#The load_files will treat each folder inside the \"txtsentoken\" folder as one category and all \n",
    "#the documents inside that folder will be assigned its corresponding category.\n",
    "movie_data = load_files(r\"C:\\Users\\Rober\\workSpace_with_python\\txt_sentoken\")  #tem que passar o endereço completo\n",
    "x, y = movie_data.data, movie_data.target  \n",
    "#x é uma lista de 2000 strings e y é um numpy array de 0's e 1's"
   ]
  },
  {
   "cell_type": "code",
   "execution_count": 7,
   "metadata": {},
   "outputs": [],
   "source": [
    "#3 - Text Processing\n",
    "documents = []\n",
    "stemmer = WordNetLemmatizer()\n",
    "\n",
    "for sen in range(0, len(x)):  \n",
    "    # Remove all the special characters\n",
    "    document = re.sub(r'\\W', ' ', str(x[sen]))\n",
    "\n",
    "    # remove all single characters\n",
    "    document = re.sub(r'\\s+[a-zA-Z]\\s+', ' ', document)\n",
    "\n",
    "    # Remove single characters from the start\n",
    "    document = re.sub(r'\\^[a-zA-Z]\\s+', ' ', document) \n",
    "\n",
    "    # Substituting multiple spaces with single space\n",
    "    document = re.sub(r'\\s+', ' ', document, flags=re.I)\n",
    "\n",
    "    # Removing prefixed 'b'\n",
    "    document = re.sub(r'^b\\s+', '', document)\n",
    "\n",
    "    # Converting to Lowercase\n",
    "    document = document.lower()\n",
    "\n",
    "    # Lemmatization\n",
    "    document = document.split()\n",
    "\n",
    "    document = [stemmer.lemmatize(word) for word in document]\n",
    "    document = ' '.join(document)\n",
    "\n",
    "    documents.append(document)"
   ]
  },
  {
   "cell_type": "code",
   "execution_count": 11,
   "metadata": {},
   "outputs": [],
   "source": [
    "#4 - Converting Text to Number\n",
    "        #utiliza o modelo de Bag of Words para converter texto em numero\n",
    "from sklearn.feature_extraction.text import CountVectorizer  \n",
    "vectorizer = CountVectorizer(max_features=1500, min_df=5, max_df=0.7, stop_words=stopwords.words('english'))  \n",
    "X = vectorizer.fit_transform(documents).toarray()   #converting text to number"
   ]
  },
  {
   "cell_type": "code",
   "execution_count": 12,
   "metadata": {},
   "outputs": [],
   "source": [
    "#No script acima, quando chamo a função CountVectorizer e passo alguns parametro\n",
    "#max_features = só considera os primeiros 1500 termos ordenados pela sua frequência do termo no corpus\n",
    "#min_df = ignora os termos que não aparecem em pelo menos 5 documentos\n",
    "#max_df = só inclui os termos que ocorrem em mais de 70% de todos os documentos"
   ]
  },
  {
   "cell_type": "code",
   "execution_count": null,
   "metadata": {},
   "outputs": [],
   "source": [
    "#The bag of words approach works fine for converting text to numbers. However, it has one drawback. \n",
    "#It assigns a score to a word based on its occurrence in a particular document. \n",
    "#It doesn't take into account the fact that the word might also be having a high frequency of occurrence in other documents \n",
    "#as well. TFIDF resolves this issue by multiplying the term frequency of a word by the inverse document frequency. \n",
    "#The TF stands for \"Term Frequency\" while IDF stands for \"Inverse Document Frequency\". \n",
    "from sklearn.feature_extraction.text import TfidfTransformer  \n",
    "tfidfconverter = TfidfTransformer()  \n",
    "X = tfidfconverter.fit_transform(X).toarray()  "
   ]
  },
  {
   "cell_type": "code",
   "execution_count": 19,
   "metadata": {},
   "outputs": [],
   "source": [
    "#5 - Training and Test Sets\n",
    "from sklearn.model_selection import train_test_split  \n",
    "#this script divides data into 20% test set and 80% training set.\n",
    "X_train, X_test, y_train, y_test = train_test_split(X, y, test_size=0.2, random_state=0)  "
   ]
  },
  {
   "cell_type": "code",
   "execution_count": 20,
   "metadata": {},
   "outputs": [],
   "source": [
    "#6 - Training Text Classification Model and Predicting Sentiment\n",
    "from sklearn.ensemble import RandomForestClassifier\n",
    "classifier = RandomForestClassifier(n_estimators=1000, random_state=0)  \n",
    "classifier.fit(X_train, y_train) \n",
    "y_pred = classifier.predict(X_test) "
   ]
  },
  {
   "cell_type": "code",
   "execution_count": 34,
   "metadata": {},
   "outputs": [
    {
     "name": "stdout",
     "output_type": "stream",
     "text": [
      "Accuracy score:  0.855\n",
      "Precision score:  0.8526315789473684\n",
      "Recall score:  0.84375\n",
      "F1 score:  0.8481675392670157\n"
     ]
    }
   ],
   "source": [
    "#7 - Evaluating The Model\n",
    "from sklearn.metrics import accuracy_score, precision_score, recall_score, f1_score\n",
    "\n",
    "print('Accuracy score: ', format(accuracy_score(y_test, y_pred)))\n",
    "print('Precision score: ', format(precision_score(y_test, y_pred)))\n",
    "print('Recall score: ', format(recall_score(y_test, y_pred)))\n",
    "print('F1 score: ', format(f1_score(y_test, y_pred)))"
   ]
  },
  {
   "cell_type": "code",
   "execution_count": 35,
   "metadata": {},
   "outputs": [
    {
     "name": "stdout",
     "output_type": "stream",
     "text": [
      "Accuracy score:  0.855\n",
      "Precision score:  0.8526315789473684\n",
      "Recall score:  0.84375\n",
      "F1 score:  0.8481675392670157\n"
     ]
    }
   ],
   "source": [
    "#8 - Saving and Loading the Model\n",
    "with open('text_classifier', 'wb') as picklefile:  \n",
    "    pickle.dump(classifier,picklefile)\n",
    "with open('text_classifier', 'rb') as training_model:  \n",
    "    model = pickle.load(training_model)\n",
    "\n",
    "y_pred2 = model.predict(X_test)\n",
    "\n",
    "print('Accuracy score: ', format(accuracy_score(y_test, y_pred2)))\n",
    "print('Precision score: ', format(precision_score(y_test, y_pred2)))\n",
    "print('Recall score: ', format(recall_score(y_test, y_pred2)))\n",
    "print('F1 score: ', format(f1_score(y_test, y_pred2)))\n"
   ]
  },
  {
   "cell_type": "code",
   "execution_count": 37,
   "metadata": {},
   "outputs": [
    {
     "name": "stdout",
     "output_type": "stream",
     "text": [
      "Accuracy score:  0.795\n",
      "Precision score:  0.7669902912621359\n",
      "Recall score:  0.8229166666666666\n",
      "F1 score:  0.7939698492462312\n"
     ]
    }
   ],
   "source": [
    "#Aplicando o algoritmos de naive bayes\n",
    "from sklearn.naive_bayes import MultinomialNB\n",
    "naive_bayes = MultinomialNB()\n",
    "naive_bayes.fit(X_train, y_train)\n",
    "predictions = naive_bayes.predict(X_test)\n",
    "\n",
    "print('Accuracy score: ', format(accuracy_score(y_test, predictions)))\n",
    "print('Precision score: ', format(precision_score(y_test, predictions)))\n",
    "print('Recall score: ', format(recall_score(y_test, predictions)))\n",
    "print('F1 score: ', format(f1_score(y_test, predictions)))"
   ]
  },
  {
   "cell_type": "code",
   "execution_count": 43,
   "metadata": {},
   "outputs": [
    {
     "name": "stdout",
     "output_type": "stream",
     "text": [
      "Accuracy score:  0.735\n",
      "Precision score:  0.715\n",
      "Recall score:  0.7447916666666666\n",
      "F1 score:  0.7295918367346939\n"
     ]
    }
   ],
   "source": [
    "#Aplicando o algoritmo knn\n",
    "from sklearn.neighbors import KNeighborsClassifier\n",
    "neigh = KNeighborsClassifier(n_neighbors=100)\n",
    "neigh.fit(X_train, y_train)\n",
    "y_pred3 = neigh.predict(X_test)\n",
    "\n",
    "print('Accuracy score: ', format(accuracy_score(y_test, y_pred3)))\n",
    "print('Precision score: ', format(precision_score(y_test, y_pred3)))\n",
    "print('Recall score: ', format(recall_score(y_test, y_pred3)))\n",
    "print('F1 score: ', format(f1_score(y_test, y_pred3)))"
   ]
  },
  {
   "cell_type": "code",
   "execution_count": 45,
   "metadata": {},
   "outputs": [
    {
     "name": "stdout",
     "output_type": "stream",
     "text": [
      "Accuracy score:  0.595\n",
      "Precision score:  0.5609756097560976\n",
      "Recall score:  0.71875\n",
      "F1 score:  0.6301369863013699\n"
     ]
    }
   ],
   "source": [
    "#Aplicando o algoritmo k-means\n",
    "from sklearn.cluster import KMeans\n",
    "kmeans = KMeans(n_clusters=2, random_state=0).fit(X_train, y_train)\n",
    "y_pred4 = kmeans.predict(X_test)\n",
    "\n",
    "print('Accuracy score: ', format(accuracy_score(y_test, y_pred4)))\n",
    "print('Precision score: ', format(precision_score(y_test, y_pred4)))\n",
    "print('Recall score: ', format(recall_score(y_test, y_pred4)))\n",
    "print('F1 score: ', format(f1_score(y_test, y_pred4)))"
   ]
  },
  {
   "cell_type": "code",
   "execution_count": null,
   "metadata": {},
   "outputs": [],
   "source": []
  }
 ],
 "metadata": {
  "kernelspec": {
   "display_name": "Python 3",
   "language": "python",
   "name": "python3"
  },
  "language_info": {
   "codemirror_mode": {
    "name": "ipython",
    "version": 3
   },
   "file_extension": ".py",
   "mimetype": "text/x-python",
   "name": "python",
   "nbconvert_exporter": "python",
   "pygments_lexer": "ipython3",
   "version": "3.7.1"
  }
 },
 "nbformat": 4,
 "nbformat_minor": 2
}
