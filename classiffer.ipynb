{
 "cells": [
  {
   "cell_type": "code",
   "execution_count": 1,
   "metadata": {},
   "outputs": [],
   "source": [
    "import numpy as np\n",
    "import pandas as pd\n",
    "from preprocessor import Cleaner, Stemmer\n",
    "from util import Loader\n",
    "from sklearn.feature_extraction.text import TfidfVectorizer\n",
    "from sklearn.metrics import accuracy_score\n",
    "from sklearn.datasets import load_files "
   ]
  },
  {
   "cell_type": "code",
   "execution_count": 2,
   "metadata": {},
   "outputs": [],
   "source": [
    "loader = Loader()\n",
    "data = loader.from_files(path=\"datasets/classic3\")"
   ]
  },
  {
   "cell_type": "code",
   "execution_count": 3,
   "metadata": {},
   "outputs": [],
   "source": [
    "from sklearn.pipeline import Pipeline\n",
    "from sklearn.naive_bayes import MultinomialNB\n",
    "steps = [\n",
    "        ('cleanning', Cleaner(remove_accents=True, remove_alpha_numeric=True, max_word_lenght=2)),\n",
    "        ('stemmer', Stemmer(lang='english')),\n",
    "        ('tfidf', TfidfVectorizer(max_df=0.90, min_df=0.05)),\n",
    "        ('mnb', MultinomialNB())\n",
    "]\n",
    "pipe = Pipeline(steps=steps)"
   ]
  },
  {
   "cell_type": "code",
   "execution_count": 4,
   "metadata": {},
   "outputs": [],
   "source": [
    "params = {'cleanning__remove_accents':[True,False],\n",
    "    'cleanning__remove_alpha_numeric':[True,False],\n",
    "    'stemmer__lang':['english'],\n",
    "    'tfidf__max_df':[1.0,0.95],\n",
    "    'tfidf__min_df':[0.0,0.01],\n",
    "    'mnb__alpha':[0.001,0.01,0.1,]\n",
    "}\n",
    "scoring = ['accuracy','f1_micro', 'f1_macro']"
   ]
  },
  {
   "cell_type": "code",
   "execution_count": 5,
   "metadata": {},
   "outputs": [
    {
     "name": "stdout",
     "output_type": "stream",
     "text": [
      "Fitting 10 folds for each of 48 candidates, totalling 480 fits\n"
     ]
    },
    {
     "name": "stderr",
     "output_type": "stream",
     "text": [
      "[Parallel(n_jobs=-1)]: Using backend LokyBackend with 4 concurrent workers.\n",
      "[Parallel(n_jobs=-1)]: Done  42 tasks      | elapsed: 10.0min\n",
      "[Parallel(n_jobs=-1)]: Done 192 tasks      | elapsed: 41.3min\n",
      "[Parallel(n_jobs=-1)]: Done 442 tasks      | elapsed: 94.6min\n",
      "[Parallel(n_jobs=-1)]: Done 480 out of 480 | elapsed: 101.7min finished\n"
     ]
    }
   ],
   "source": [
    "from sklearn.model_selection import GridSearchCV\n",
    "clf = GridSearchCV(pipe, params, cv=10, n_jobs=-1, verbose=True,scoring=scoring,refit='accuracy',return_train_score=True)\n",
    "clf.fit(data['corpus'],data['class_index'])"
   ]
  },
  {
   "cell_type": "code",
   "execution_count": 6,
   "metadata": {},
   "outputs": [],
   "source": [
    "df = pd.DataFrame(clf.cv_results_)\n",
    "df.to_csv('resultado.csv')"
   ]
  }
 ],
 "metadata": {
  "kernelspec": {
   "display_name": "Python 3",
   "language": "python",
   "name": "python3"
  },
  "language_info": {
   "codemirror_mode": {
    "name": "ipython",
    "version": 3
   },
   "file_extension": ".py",
   "mimetype": "text/x-python",
   "name": "python",
   "nbconvert_exporter": "python",
   "pygments_lexer": "ipython3",
   "version": "3.7.1"
  }
 },
 "nbformat": 4,
 "nbformat_minor": 2
}
